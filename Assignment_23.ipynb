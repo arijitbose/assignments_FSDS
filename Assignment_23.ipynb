{
 "cells": [
  {
   "cell_type": "code",
   "execution_count": 1,
   "id": "46fd3c1a",
   "metadata": {},
   "outputs": [
    {
     "name": "stdout",
     "output_type": "stream",
     "text": [
      "1 2 8\n"
     ]
    }
   ],
   "source": [
    "#1. What is the result of the code, and why?\n",
    "def func(a, b=6, c=8):\n",
    "    print(a, b, c)\n",
    "func(1, 2)\n"
   ]
  },
  {
   "cell_type": "code",
   "execution_count": 2,
   "id": "309f7e3b",
   "metadata": {},
   "outputs": [],
   "source": [
    "# ans 1: Here after running func(1, 2), the value of a =1 and b=2 is taken from function arguments, whereas c=8 is taken from\n",
    "# function definition"
   ]
  },
  {
   "cell_type": "code",
   "execution_count": 3,
   "id": "05bc0d8d",
   "metadata": {},
   "outputs": [
    {
     "name": "stdout",
     "output_type": "stream",
     "text": [
      "1 2 3\n"
     ]
    }
   ],
   "source": [
    "#2. What is the result of this code, and why?\n",
    "def func(a, b, c=5):\n",
    "    print(a, b, c)\n",
    "func(1, c=3, b=2)\n"
   ]
  },
  {
   "cell_type": "code",
   "execution_count": 4,
   "id": "0f2bc64a",
   "metadata": {},
   "outputs": [],
   "source": [
    "# ans 2: Here after running func(1, c=3, b=2), the value of a =1 and b=2  and c=3 is taken from function arguments, \n",
    "#whereas c=5 is from # function definition is not considered."
   ]
  },
  {
   "cell_type": "code",
   "execution_count": 10,
   "id": "c4955716",
   "metadata": {},
   "outputs": [
    {
     "name": "stdout",
     "output_type": "stream",
     "text": [
      "1 (2, 3)\n"
     ]
    }
   ],
   "source": [
    "#3. How about this code: what is its result, and why?\n",
    "def func(a, *pargs):\n",
    "    print(a, pargs)\n",
    "func(1, 2, 3)\n"
   ]
  },
  {
   "cell_type": "code",
   "execution_count": 11,
   "id": "1120448e",
   "metadata": {},
   "outputs": [],
   "source": [
    "#ans3: The *pargs argument takes multiple parameters and returns a tuple of the arguments passed."
   ]
  },
  {
   "cell_type": "code",
   "execution_count": 13,
   "id": "11e26f8e",
   "metadata": {},
   "outputs": [
    {
     "name": "stdout",
     "output_type": "stream",
     "text": [
      "1 {'c': 3, 'b': 2}\n"
     ]
    }
   ],
   "source": [
    "#4. What does this code print, and why?\n",
    "def func(a, **kargs):\n",
    "    print(a, kargs)\n",
    "func(a=1, c=3, b=2)\n"
   ]
  },
  {
   "cell_type": "code",
   "execution_count": 14,
   "id": "df186f7f",
   "metadata": {},
   "outputs": [],
   "source": [
    "# ans 4: Here the function **kargs takes multiple input parameters as a key ,value pair and returns a dictionary \n",
    "# of the key value pairs."
   ]
  },
  {
   "cell_type": "code",
   "execution_count": 16,
   "id": "ff6fb5e5",
   "metadata": {},
   "outputs": [
    {
     "name": "stdout",
     "output_type": "stream",
     "text": [
      "1 5 6 5\n"
     ]
    }
   ],
   "source": [
    "#5. What gets printed by this, and explain?\n",
    "def func(a, b, c=8, d=5):\n",
    "    print(a, b, c, d)\n",
    "func(1, *(5, 6))\n"
   ]
  },
  {
   "cell_type": "code",
   "execution_count": 17,
   "id": "70bf1c34",
   "metadata": {},
   "outputs": [],
   "source": [
    "# ans 5: Here value of b and c are unpacked by using the * opeartor."
   ]
  },
  {
   "cell_type": "code",
   "execution_count": 28,
   "id": "423fa5f0",
   "metadata": {},
   "outputs": [
    {
     "data": {
      "text/plain": [
       "(1, ['x'], {'a': 'y'})"
      ]
     },
     "execution_count": 28,
     "metadata": {},
     "output_type": "execute_result"
    }
   ],
   "source": [
    "#6. what is the result of this, and explain?\n",
    "def func(a, b, c):\n",
    "    a = 2\n",
    "    b[0] = 'x'\n",
    "    c['a'] = 'y'\n",
    "l=1\n",
    "m=[1]\n",
    "n={'a':0}\n",
    "func(l, m, n)\n",
    "l,m,n"
   ]
  },
  {
   "cell_type": "code",
   "execution_count": 25,
   "id": "823e0cdd",
   "metadata": {},
   "outputs": [],
   "source": [
    "#Ans 6:  Here 'l' when passed as a parameter to the function, its value is considered rather than a's value.\n",
    "# since 'm' is a list containing a single element 1, it value is overwritten when passed through func(a,b,c)\n",
    "# since b[0]='x' hence m=['x'].Lastly the value of the dictionary n is overwritten by the statement c['a'] = 'y'\n",
    "# since both keys are equal to 'a'"
   ]
  }
 ],
 "metadata": {
  "kernelspec": {
   "display_name": "Python 3 (ipykernel)",
   "language": "python",
   "name": "python3"
  },
  "language_info": {
   "codemirror_mode": {
    "name": "ipython",
    "version": 3
   },
   "file_extension": ".py",
   "mimetype": "text/x-python",
   "name": "python",
   "nbconvert_exporter": "python",
   "pygments_lexer": "ipython3",
   "version": "3.10.4"
  }
 },
 "nbformat": 4,
 "nbformat_minor": 5
}
