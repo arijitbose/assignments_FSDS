{
 "cells": [
  {
   "cell_type": "code",
   "execution_count": 2,
   "id": "a6520428",
   "metadata": {},
   "outputs": [
    {
     "name": "stdout",
     "output_type": "stream",
     "text": [
      "iNeuron\n"
     ]
    }
   ],
   "source": [
    "#1. What is the result of the code, and explain?\n",
    "\n",
    "X = 'iNeuron'\n",
    "\n",
    "def func():\n",
    "    print(X)\n",
    "\n",
    "\n",
    "func()\n"
   ]
  },
  {
   "cell_type": "code",
   "execution_count": 11,
   "id": "1df781df",
   "metadata": {},
   "outputs": [],
   "source": [
    "# ans 1: Here value of X='iNeuron' is returned and X is defined globally."
   ]
  },
  {
   "cell_type": "code",
   "execution_count": 6,
   "id": "a7f20eb8",
   "metadata": {},
   "outputs": [
    {
     "name": "stdout",
     "output_type": "stream",
     "text": [
      "iNeuron\n"
     ]
    }
   ],
   "source": [
    "#2. What is the result of the code, and explain?\n",
    "\n",
    "\n",
    "X = 'iNeuron'\n",
    "def func():\n",
    "    X = 'NI!'\n",
    "\n",
    "\n",
    "\n",
    "func()\n",
    "print(X)\n"
   ]
  },
  {
   "cell_type": "code",
   "execution_count": 13,
   "id": "f40f92d9",
   "metadata": {},
   "outputs": [],
   "source": [
    "# ans 2: Here value ox X='iNeuron' is returned as X is defined globally, i.e. it is having global scope."
   ]
  },
  {
   "cell_type": "code",
   "execution_count": 10,
   "id": "6d24a748",
   "metadata": {},
   "outputs": [
    {
     "name": "stdout",
     "output_type": "stream",
     "text": [
      "NI\n",
      "iNeuron\n"
     ]
    }
   ],
   "source": [
    "#3. What does this code print, and why?\n",
    "\n",
    "\n",
    "X = 'iNeuron'\n",
    "def func():\n",
    "    X = 'NI'\n",
    "    print(X)\n",
    "\n",
    "\n",
    "func()\n",
    "print(X)\n"
   ]
  },
  {
   "cell_type": "code",
   "execution_count": 14,
   "id": "70cb2ec8",
   "metadata": {},
   "outputs": [],
   "source": [
    "# ans 3: Here since within the function x='NI' therefore when we call the function 'NI' is returned.\n",
    "#whereas when we call the print function directly the value of X defined at the top(global scope) is returned."
   ]
  },
  {
   "cell_type": "code",
   "execution_count": 17,
   "id": "e7fe6607",
   "metadata": {},
   "outputs": [
    {
     "name": "stdout",
     "output_type": "stream",
     "text": [
      "NI\n"
     ]
    }
   ],
   "source": [
    "#4. What output does this code produce? Why?\n",
    "\n",
    "\n",
    "X = 'iNeuron'\n",
    "def func():\n",
    "    global X\n",
    "    X = 'NI'\n",
    "\n",
    "\n",
    "func()\n",
    "print(X)\n"
   ]
  },
  {
   "cell_type": "code",
   "execution_count": 18,
   "id": "64c38da3",
   "metadata": {},
   "outputs": [],
   "source": [
    "# ans 4: Here since within the function X is declared as a global variable therefore when we call the function 'NI' is returned.\n",
    "# Here the global value of X=\"iNueron\" is overwritten by using gloabl keyword with function func().\n",
    "#and  when we call the print function directly the value of X defined by the global variable is returned."
   ]
  },
  {
   "cell_type": "code",
   "execution_count": 21,
   "id": "f7187fc0",
   "metadata": {},
   "outputs": [
    {
     "name": "stdout",
     "output_type": "stream",
     "text": [
      "iNeuron\n"
     ]
    },
    {
     "data": {
      "text/plain": [
       "'iNeuron'"
      ]
     },
     "execution_count": 21,
     "metadata": {},
     "output_type": "execute_result"
    }
   ],
   "source": [
    "\n",
    "#5. What about this code—what’s the output, and why?\n",
    "\n",
    "\n",
    "X = 'iNeuron'\n",
    "def func():\n",
    "    X = 'NI'\n",
    "def nested():\n",
    "    print(X)\n",
    "nested()\n",
    "\n",
    "\n",
    "func()\n",
    "X\n"
   ]
  },
  {
   "cell_type": "code",
   "execution_count": 22,
   "id": "2c5b323c",
   "metadata": {},
   "outputs": [],
   "source": [
    "# ans 5: Here the nested() function prints the value of X='iNueron'.No global variable is written."
   ]
  },
  {
   "cell_type": "code",
   "execution_count": 8,
   "id": "ecc7e778",
   "metadata": {},
   "outputs": [
    {
     "ename": "SyntaxError",
     "evalue": "no binding for nonlocal 'X' found (2611095942.py, line 7)",
     "output_type": "error",
     "traceback": [
      "\u001b[0;36m  Input \u001b[0;32mIn [8]\u001b[0;36m\u001b[0m\n\u001b[0;31m    nonlocal X\u001b[0m\n\u001b[0m    ^\u001b[0m\n\u001b[0;31mSyntaxError\u001b[0m\u001b[0;31m:\u001b[0m no binding for nonlocal 'X' found\n"
     ]
    }
   ],
   "source": [
    "#6. How about this code: what is its output in Python 3, and explain?\n",
    "\n",
    "\n",
    "def func():\n",
    "    X = 'NI'\n",
    "def nested():\n",
    "    nonlocal X\n",
    "X=\"Spam\" \n",
    "nested()\n",
    "print(X)\n",
    "\n",
    "\n",
    "func()\n"
   ]
  },
  {
   "cell_type": "code",
   "execution_count": null,
   "id": "a2bb3d8a",
   "metadata": {},
   "outputs": [],
   "source": [
    "#Ans 6:Here we are trying to make a nonlocal variable to refer to the global variable X, hence we get an error."
   ]
  }
 ],
 "metadata": {
  "kernelspec": {
   "display_name": "Python 3 (ipykernel)",
   "language": "python",
   "name": "python3"
  },
  "language_info": {
   "codemirror_mode": {
    "name": "ipython",
    "version": 3
   },
   "file_extension": ".py",
   "mimetype": "text/x-python",
   "name": "python",
   "nbconvert_exporter": "python",
   "pygments_lexer": "ipython3",
   "version": "3.10.4"
  }
 },
 "nbformat": 4,
 "nbformat_minor": 5
}
