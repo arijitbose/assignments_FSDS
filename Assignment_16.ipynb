{
 "cells": [
  {
   "cell_type": "code",
   "execution_count": 1,
   "id": "1ef7a6e2",
   "metadata": {},
   "outputs": [],
   "source": [
    "#1. Create a list called years_list, starting with the year of your birth, and each year thereafter until the year of \n",
    "#your fifth birthday. For example, if you were born in 1980. the list would be \n",
    "#years_list = [1980, 1981, 1982, 1983, 1984, 1985]."
   ]
  },
  {
   "cell_type": "code",
   "execution_count": 3,
   "id": "f97fb070",
   "metadata": {},
   "outputs": [
    {
     "data": {
      "text/plain": [
       "[1983, 1984, 1985, 1986, 1987, 1988]"
      ]
     },
     "execution_count": 3,
     "metadata": {},
     "output_type": "execute_result"
    }
   ],
   "source": [
    "years_list=[1983+i for i in range(6)]\n",
    "years_list"
   ]
  },
  {
   "cell_type": "code",
   "execution_count": 4,
   "id": "33ea9c65",
   "metadata": {},
   "outputs": [],
   "source": [
    "#2. In which year in years_list was your third birthday? Remember, you were 0 years of age for your first year."
   ]
  },
  {
   "cell_type": "code",
   "execution_count": 5,
   "id": "28eb06da",
   "metadata": {},
   "outputs": [
    {
     "data": {
      "text/plain": [
       "1986"
      ]
     },
     "execution_count": 5,
     "metadata": {},
     "output_type": "execute_result"
    }
   ],
   "source": [
    "years_list[3]"
   ]
  },
  {
   "cell_type": "code",
   "execution_count": 6,
   "id": "46340198",
   "metadata": {},
   "outputs": [],
   "source": [
    "#3.In the years list, which year were you the oldest?"
   ]
  },
  {
   "cell_type": "code",
   "execution_count": 7,
   "id": "de3daed5",
   "metadata": {},
   "outputs": [
    {
     "data": {
      "text/plain": [
       "1988"
      ]
     },
     "execution_count": 7,
     "metadata": {},
     "output_type": "execute_result"
    }
   ],
   "source": [
    "years_list[-1]"
   ]
  },
  {
   "cell_type": "code",
   "execution_count": 8,
   "id": "9d4c0830",
   "metadata": {},
   "outputs": [],
   "source": [
    "#4. Make a list called things with these three strings as elements: \"mozzarella\", \"cinderella\", \"salmonella\"."
   ]
  },
  {
   "cell_type": "code",
   "execution_count": 9,
   "id": "2929e6a5",
   "metadata": {},
   "outputs": [],
   "source": [
    "things=[\"mozzarella\", \"cinderella\", \"salmonella\"]"
   ]
  },
  {
   "cell_type": "code",
   "execution_count": 10,
   "id": "07fe1a86",
   "metadata": {},
   "outputs": [],
   "source": [
    "#5:Capitalize the element in things that refers to a person and then print the list. Did it change the element in the list?"
   ]
  },
  {
   "cell_type": "code",
   "execution_count": 15,
   "id": "4472ba55",
   "metadata": {},
   "outputs": [
    {
     "name": "stdout",
     "output_type": "stream",
     "text": [
      "['mozzarella', 'cinderella', 'salmonella']\n"
     ]
    }
   ],
   "source": [
    "for element in things:\n",
    "    if element==\"cinderella\":\n",
    "        element.capitalize()\n",
    "        print(things)\n",
    "#Did it change the element in the list? No        "
   ]
  },
  {
   "cell_type": "code",
   "execution_count": 16,
   "id": "9baaac8f",
   "metadata": {},
   "outputs": [],
   "source": [
    "#6.Make a surprise list with the elements \"Groucho,\" \"Chico,\" and \"Harpo.\""
   ]
  },
  {
   "cell_type": "code",
   "execution_count": 17,
   "id": "6cbbafb6",
   "metadata": {},
   "outputs": [],
   "source": [
    "surprise_list=[\"Groucho\",\"Chico\",\"Harpo\"]"
   ]
  },
  {
   "cell_type": "code",
   "execution_count": 18,
   "id": "b95e17b2",
   "metadata": {},
   "outputs": [],
   "source": [
    "#7.Lowercase the last element of the surprise list, reverse it, and then capitalize it."
   ]
  },
  {
   "cell_type": "code",
   "execution_count": 42,
   "id": "b2a21ba3",
   "metadata": {},
   "outputs": [
    {
     "data": {
      "text/plain": [
       "'Oprah'"
      ]
     },
     "execution_count": 42,
     "metadata": {},
     "output_type": "execute_result"
    }
   ],
   "source": [
    "a=surprise_list[-1].lower()\n",
    "b=list(a)\n",
    "c=b[::-1]\n",
    "d=\"\"\n",
    "for string in c:\n",
    "    d=d+string\n",
    "d.capitalize()   \n",
    "         "
   ]
  },
  {
   "cell_type": "code",
   "execution_count": 43,
   "id": "88c954be",
   "metadata": {},
   "outputs": [],
   "source": [
    "#8.Make an English-to-French dictionary called e2f and print it.\n",
    "#Here are your starter words: dog is chien, cat is chat, and walrus is morse."
   ]
  },
  {
   "cell_type": "code",
   "execution_count": 44,
   "id": "b0d6d982",
   "metadata": {},
   "outputs": [],
   "source": [
    "e2f={\"dog\":\"chien\", \"cat\":\"chat\", \"walrus\":\"morse\"}"
   ]
  },
  {
   "cell_type": "code",
   "execution_count": 45,
   "id": "e44fd1cc",
   "metadata": {},
   "outputs": [],
   "source": [
    "#9.Write the French word for walrus in your three-word dictionary e2f."
   ]
  },
  {
   "cell_type": "code",
   "execution_count": 47,
   "id": "d6d0cfe9",
   "metadata": {},
   "outputs": [
    {
     "data": {
      "text/plain": [
       "'morse'"
      ]
     },
     "execution_count": 47,
     "metadata": {},
     "output_type": "execute_result"
    }
   ],
   "source": [
    "e2f[\"walrus\"]"
   ]
  },
  {
   "cell_type": "code",
   "execution_count": 48,
   "id": "8a027fa4",
   "metadata": {},
   "outputs": [],
   "source": [
    "#10:Make a French-to-English dictionary called f2e from e2f. Use the items method."
   ]
  },
  {
   "cell_type": "code",
   "execution_count": 61,
   "id": "d8389e95",
   "metadata": {},
   "outputs": [
    {
     "data": {
      "text/plain": [
       "{'chien': 'dog', 'chat': 'cat', 'morse': 'walrus'}"
      ]
     },
     "execution_count": 61,
     "metadata": {},
     "output_type": "execute_result"
    }
   ],
   "source": [
    "f2e={v:k for k,v in e2f.items()}\n",
    "f2e"
   ]
  },
  {
   "cell_type": "code",
   "execution_count": 53,
   "id": "53c83d3f",
   "metadata": {},
   "outputs": [],
   "source": [
    "#11.Print the English version of the French word chien using f2e."
   ]
  },
  {
   "cell_type": "code",
   "execution_count": 62,
   "id": "0fbb11ff",
   "metadata": {},
   "outputs": [
    {
     "data": {
      "text/plain": [
       "'dog'"
      ]
     },
     "execution_count": 62,
     "metadata": {},
     "output_type": "execute_result"
    }
   ],
   "source": [
    "f2e[\"chien\"]"
   ]
  },
  {
   "cell_type": "code",
   "execution_count": 63,
   "id": "ddc709b2",
   "metadata": {},
   "outputs": [],
   "source": [
    "#12.Make and print a set of English words from the keys in e2f."
   ]
  },
  {
   "cell_type": "code",
   "execution_count": 64,
   "id": "763eabf6",
   "metadata": {},
   "outputs": [
    {
     "data": {
      "text/plain": [
       "dict_keys(['dog', 'cat', 'walrus'])"
      ]
     },
     "execution_count": 64,
     "metadata": {},
     "output_type": "execute_result"
    }
   ],
   "source": [
    "e2f.keys()"
   ]
  },
  {
   "cell_type": "code",
   "execution_count": 65,
   "id": "4a8b8dbe",
   "metadata": {},
   "outputs": [],
   "source": [
    "#13:Make a multilevel dictionary called life. Use these strings for the topmost keys: \n",
    "#'animals', 'plants', and 'other'. Make the 'animals' key refer to another dictionary \n",
    "#with the keys 'cats', 'octopi', and 'emus'. Make the 'cats' key refer to a list of strings \n",
    "#with the values 'Henri', 'Grumpy', and 'Lucy'. Make all the other keys refer to empty dictionaries."
   ]
  },
  {
   "cell_type": "code",
   "execution_count": 66,
   "id": "b2cb5cc8",
   "metadata": {},
   "outputs": [],
   "source": [
    "life={\"animals\":{'cats':['Henri', 'Grumpy','Lucy'],'octopi':{},'emus':{}},'plants':{}, 'other':{}}"
   ]
  },
  {
   "cell_type": "code",
   "execution_count": 67,
   "id": "979389ab",
   "metadata": {},
   "outputs": [],
   "source": [
    "#14:Print the top-level keys of life."
   ]
  },
  {
   "cell_type": "code",
   "execution_count": 68,
   "id": "f540b6d8",
   "metadata": {},
   "outputs": [
    {
     "data": {
      "text/plain": [
       "dict_keys(['animals', 'plants', 'other'])"
      ]
     },
     "execution_count": 68,
     "metadata": {},
     "output_type": "execute_result"
    }
   ],
   "source": [
    "life.keys()"
   ]
  },
  {
   "cell_type": "code",
   "execution_count": 69,
   "id": "cd161df8",
   "metadata": {},
   "outputs": [],
   "source": [
    "#15.Print the keys for life['animals']."
   ]
  },
  {
   "cell_type": "code",
   "execution_count": 70,
   "id": "5d1389ec",
   "metadata": {},
   "outputs": [
    {
     "data": {
      "text/plain": [
       "dict_keys(['cats', 'octopi', 'emus'])"
      ]
     },
     "execution_count": 70,
     "metadata": {},
     "output_type": "execute_result"
    }
   ],
   "source": [
    "life['animals'].keys()"
   ]
  },
  {
   "cell_type": "code",
   "execution_count": 71,
   "id": "9225a844",
   "metadata": {},
   "outputs": [],
   "source": [
    "#16:Print the values for life['animals']['cats']"
   ]
  },
  {
   "cell_type": "code",
   "execution_count": 72,
   "id": "dd2319af",
   "metadata": {},
   "outputs": [
    {
     "data": {
      "text/plain": [
       "['Henri', 'Grumpy', 'Lucy']"
      ]
     },
     "execution_count": 72,
     "metadata": {},
     "output_type": "execute_result"
    }
   ],
   "source": [
    "life['animals']['cats']"
   ]
  }
 ],
 "metadata": {
  "kernelspec": {
   "display_name": "Python 3 (ipykernel)",
   "language": "python",
   "name": "python3"
  },
  "language_info": {
   "codemirror_mode": {
    "name": "ipython",
    "version": 3
   },
   "file_extension": ".py",
   "mimetype": "text/x-python",
   "name": "python",
   "nbconvert_exporter": "python",
   "pygments_lexer": "ipython3",
   "version": "3.10.4"
  }
 },
 "nbformat": 4,
 "nbformat_minor": 5
}
