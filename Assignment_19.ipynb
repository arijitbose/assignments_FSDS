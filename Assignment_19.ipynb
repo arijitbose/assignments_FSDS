{
 "cells": [
  {
   "cell_type": "markdown",
   "id": "ad98991f",
   "metadata": {},
   "source": [
    "1. Make a class called Thing with no contents and print it. Then, create an object called example from this class and also print it. Are the printed values the same or different?"
   ]
  },
  {
   "cell_type": "code",
   "execution_count": 1,
   "id": "29e61f05",
   "metadata": {},
   "outputs": [],
   "source": [
    "class Thing:\n",
    "    pass"
   ]
  },
  {
   "cell_type": "code",
   "execution_count": 2,
   "id": "68fc69e5",
   "metadata": {},
   "outputs": [
    {
     "name": "stdout",
     "output_type": "stream",
     "text": [
      "<class '__main__.Thing'>\n"
     ]
    }
   ],
   "source": [
    "print(Thing)"
   ]
  },
  {
   "cell_type": "code",
   "execution_count": 3,
   "id": "4043a379",
   "metadata": {},
   "outputs": [
    {
     "name": "stdout",
     "output_type": "stream",
     "text": [
      "<__main__.Thing object at 0x7fe9d81a6a70>\n"
     ]
    }
   ],
   "source": [
    "example=Thing()\n",
    "print(example)"
   ]
  },
  {
   "cell_type": "code",
   "execution_count": 4,
   "id": "99eebbd9",
   "metadata": {},
   "outputs": [],
   "source": [
    "#Ans1: The printed values are different."
   ]
  },
  {
   "cell_type": "markdown",
   "id": "a94819d9",
   "metadata": {},
   "source": [
    "2. Create a new class called Thing2 and add the value 'abc' to the letters class attribute. Letters should be printed."
   ]
  },
  {
   "cell_type": "code",
   "execution_count": 6,
   "id": "d37c1382",
   "metadata": {},
   "outputs": [],
   "source": [
    "class Thing2:\n",
    "    def __init__(self,letters):\n",
    "        self.letters=letters\n",
    "    def display(self):\n",
    "        return self.letters \n",
    "    "
   ]
  },
  {
   "cell_type": "code",
   "execution_count": 11,
   "id": "f816ad19",
   "metadata": {},
   "outputs": [
    {
     "data": {
      "text/plain": [
       "'abc'"
      ]
     },
     "execution_count": 11,
     "metadata": {},
     "output_type": "execute_result"
    }
   ],
   "source": [
    "example2=Thing2('abc')\n",
    "example2.display()"
   ]
  },
  {
   "cell_type": "markdown",
   "id": "f325cc3b",
   "metadata": {},
   "source": [
    "3. Make yet another class called, of course, Thing3. This time, assign the value 'xyz' to an instance (object) attribute called letters. Print letters. Do you need to make an object from the class to do this?"
   ]
  },
  {
   "cell_type": "code",
   "execution_count": 15,
   "id": "a78fbe6f",
   "metadata": {},
   "outputs": [],
   "source": [
    "class Thing3:\n",
    "    def __init__(self,letters):\n",
    "        self.letters='xyz'\n",
    "        print(self.letters)\n",
    " "
   ]
  },
  {
   "cell_type": "code",
   "execution_count": 20,
   "id": "7dbbc03a",
   "metadata": {},
   "outputs": [
    {
     "name": "stdout",
     "output_type": "stream",
     "text": [
      "xyz\n"
     ]
    },
    {
     "data": {
      "text/plain": [
       "<__main__.Thing3 at 0x7fe9d80be6e0>"
      ]
     },
     "execution_count": 20,
     "metadata": {},
     "output_type": "execute_result"
    }
   ],
   "source": [
    "Thing3('xyz')"
   ]
  },
  {
   "cell_type": "code",
   "execution_count": 21,
   "id": "093306e0",
   "metadata": {},
   "outputs": [],
   "source": [
    "#Ans2: We do not need to make an object from the class to do this"
   ]
  },
  {
   "cell_type": "markdown",
   "id": "213ce7ac",
   "metadata": {},
   "source": [
    "4. Create an Element class with the instance attributes name, symbol, and number. Create a class object with the values 'Hydrogen,' 'H,' and 1."
   ]
  },
  {
   "cell_type": "code",
   "execution_count": 22,
   "id": "70c86dd2",
   "metadata": {},
   "outputs": [],
   "source": [
    "class Element:\n",
    "    def __init__(self,name,symbol,number):\n",
    "        self.name=name\n",
    "        self.symbol=symbol\n",
    "        self.number=number"
   ]
  },
  {
   "cell_type": "code",
   "execution_count": 26,
   "id": "6cf564d5",
   "metadata": {},
   "outputs": [],
   "source": [
    "Hydrogen=Element('Hydrogen', 'H', 1)"
   ]
  },
  {
   "cell_type": "markdown",
   "id": "2653be3c",
   "metadata": {},
   "source": [
    "5. Make a dictionary with these keys and values: 'name': 'Hydrogen', 'symbol': 'H', 'number': 1. Then, create an object called hydrogen from class Element using this dictionary."
   ]
  },
  {
   "cell_type": "code",
   "execution_count": 31,
   "id": "43df35e0",
   "metadata": {},
   "outputs": [
    {
     "data": {
      "text/plain": [
       "<__main__.Element at 0x7fe9d80be9b0>"
      ]
     },
     "execution_count": 31,
     "metadata": {},
     "output_type": "execute_result"
    }
   ],
   "source": [
    "a={'name': 'Hydrogen', 'symbol': 'H', 'number': 1}\n",
    "hydrogen=Element(a['name'],a['symbol'],a['number'])\n",
    "hydrogen"
   ]
  },
  {
   "cell_type": "markdown",
   "id": "9eb5f587",
   "metadata": {},
   "source": [
    "6. For the Element class, define a method called dump() that prints the values of the object’s attributes (name, symbol, and number). Create the hydrogen object from this new definition and use dump() to print its attributes"
   ]
  },
  {
   "cell_type": "code",
   "execution_count": 33,
   "id": "ed0a52cd",
   "metadata": {},
   "outputs": [],
   "source": [
    "class Element:\n",
    "    def __init__(self,name,symbol,number):\n",
    "        self.name=name\n",
    "        self.symbol=symbol\n",
    "        self.number=number\n",
    "    def dump(self):\n",
    "        print(self.name,self.symbol,self.number)"
   ]
  },
  {
   "cell_type": "code",
   "execution_count": 35,
   "id": "40ffa258",
   "metadata": {},
   "outputs": [
    {
     "name": "stdout",
     "output_type": "stream",
     "text": [
      "Hydrogen H 1\n"
     ]
    }
   ],
   "source": [
    "hydrogen=Element('Hydrogen', 'H', 1)\n",
    "hydrogen.dump()"
   ]
  },
  {
   "cell_type": "markdown",
   "id": "f30f0a7f",
   "metadata": {},
   "source": [
    "7. Call print(hydrogen). In the definition of Element, change the name of method dump to __str__, create a new hydrogen object, and call print(hydrogen) again."
   ]
  },
  {
   "cell_type": "code",
   "execution_count": 36,
   "id": "0f6e9a01",
   "metadata": {},
   "outputs": [
    {
     "name": "stdout",
     "output_type": "stream",
     "text": [
      "<__main__.Element object at 0x7fe9d80beec0>\n"
     ]
    }
   ],
   "source": [
    " print(hydrogen)"
   ]
  },
  {
   "cell_type": "code",
   "execution_count": 42,
   "id": "f148c7a3",
   "metadata": {},
   "outputs": [
    {
     "name": "stdout",
     "output_type": "stream",
     "text": [
      "Hydrogen H 1\n"
     ]
    }
   ],
   "source": [
    "class Element:\n",
    "    def __init__(self,name,symbol,number):\n",
    "        self.name=name\n",
    "        self.symbol=symbol\n",
    "        self.number=number\n",
    "    def __str__(self):\n",
    "        return  str(self.name) +\" \" +str(self.symbol) +\" \"+ str(self.number)\n",
    "\n",
    "hydrogen=Element('Hydrogen', 'H', 1)\n",
    "print(hydrogen)"
   ]
  },
  {
   "cell_type": "markdown",
   "id": "cdf8ce42",
   "metadata": {},
   "source": [
    "8. Modify Element to make the attributes name, symbol, and number private. Define a getter property for each to return its value."
   ]
  },
  {
   "cell_type": "code",
   "execution_count": 47,
   "id": "7cb5a9e2",
   "metadata": {},
   "outputs": [],
   "source": [
    "class Element:\n",
    "    def __init__(self,name,symbol,number):\n",
    "        self._name=name\n",
    "        self._symbol=symbol\n",
    "        self._number=number\n",
    "    def __str__(self):\n",
    "        return  str(self._name) +\" \" +str(self._symbol) +\" \"+ str(self._number)\n",
    "    def get_name(self):\n",
    "        return self._name\n",
    "    def get_symbol(self):\n",
    "        return self._symbol\n",
    "    def get_number(self):\n",
    "        return self._number"
   ]
  },
  {
   "cell_type": "code",
   "execution_count": 48,
   "id": "41237f1a",
   "metadata": {},
   "outputs": [
    {
     "data": {
      "text/plain": [
       "'Hydrogen'"
      ]
     },
     "execution_count": 48,
     "metadata": {},
     "output_type": "execute_result"
    }
   ],
   "source": [
    "hydrogen=Element('Hydrogen', 'H', 1)\n",
    "hydrogen.get_name()"
   ]
  },
  {
   "cell_type": "code",
   "execution_count": 49,
   "id": "3e272066",
   "metadata": {},
   "outputs": [
    {
     "data": {
      "text/plain": [
       "'H'"
      ]
     },
     "execution_count": 49,
     "metadata": {},
     "output_type": "execute_result"
    }
   ],
   "source": [
    "hydrogen.get_symbol()"
   ]
  },
  {
   "cell_type": "code",
   "execution_count": 50,
   "id": "0b78dfcf",
   "metadata": {},
   "outputs": [
    {
     "data": {
      "text/plain": [
       "1"
      ]
     },
     "execution_count": 50,
     "metadata": {},
     "output_type": "execute_result"
    }
   ],
   "source": [
    "hydrogen.get_number()"
   ]
  },
  {
   "cell_type": "markdown",
   "id": "df906593",
   "metadata": {},
   "source": [
    "9. Define three classes: Bear, Rabbit, and Octothorpe. For each, define only one method: eats(). This should return 'berries' (Bear), 'clover' (Rabbit), or 'campers' (Octothorpe). Create one object from each and print what it eats"
   ]
  },
  {
   "cell_type": "code",
   "execution_count": 57,
   "id": "403b06c1",
   "metadata": {},
   "outputs": [],
   "source": [
    "class Bear:\n",
    "    def eats(self):\n",
    "        return 'berries'"
   ]
  },
  {
   "cell_type": "code",
   "execution_count": 58,
   "id": "3d29bcf4",
   "metadata": {},
   "outputs": [
    {
     "data": {
      "text/plain": [
       "'berries'"
      ]
     },
     "execution_count": 58,
     "metadata": {},
     "output_type": "execute_result"
    }
   ],
   "source": [
    "bear1=Bear()\n",
    "bear1.eats()"
   ]
  },
  {
   "cell_type": "code",
   "execution_count": 63,
   "id": "ec483e7a",
   "metadata": {},
   "outputs": [],
   "source": [
    "class Rabbit:\n",
    "    def eats(self):\n",
    "        return 'clover'"
   ]
  },
  {
   "cell_type": "code",
   "execution_count": 64,
   "id": "f24856f6",
   "metadata": {},
   "outputs": [
    {
     "data": {
      "text/plain": [
       "'clover'"
      ]
     },
     "execution_count": 64,
     "metadata": {},
     "output_type": "execute_result"
    }
   ],
   "source": [
    "rabbit1=Rabbit()\n",
    "rabbit1.eats()"
   ]
  },
  {
   "cell_type": "code",
   "execution_count": 66,
   "id": "02c8eb3c",
   "metadata": {},
   "outputs": [],
   "source": [
    "class Octothorpe:\n",
    "    def eats(self):\n",
    "        return 'campers'"
   ]
  },
  {
   "cell_type": "code",
   "execution_count": 67,
   "id": "26996b3e",
   "metadata": {},
   "outputs": [
    {
     "data": {
      "text/plain": [
       "'campers'"
      ]
     },
     "execution_count": 67,
     "metadata": {},
     "output_type": "execute_result"
    }
   ],
   "source": [
    "octothorpe1=Octothorpe()\n",
    "octothorpe1.eats()"
   ]
  },
  {
   "cell_type": "markdown",
   "id": "b68c4006",
   "metadata": {},
   "source": [
    "10. Define these classes: Laser, Claw, and SmartPhone. Each has only one method: does(). This returns 'disintegrate' (Laser), 'crush' (Claw), or 'ring' (SmartPhone). Then, define the class Robot that has one instance (object) of each of these. Define a does() method for the Robot that prints what its component objects do."
   ]
  },
  {
   "cell_type": "code",
   "execution_count": 109,
   "id": "211fee57",
   "metadata": {},
   "outputs": [],
   "source": [
    "class Laser:\n",
    "    def does(self):\n",
    "        return 'disintegrate'"
   ]
  },
  {
   "cell_type": "code",
   "execution_count": 110,
   "id": "96387283",
   "metadata": {},
   "outputs": [],
   "source": [
    "class Claw:\n",
    "    def does(self):\n",
    "        return 'crush'"
   ]
  },
  {
   "cell_type": "code",
   "execution_count": 111,
   "id": "62082c8c",
   "metadata": {},
   "outputs": [],
   "source": [
    "class SmartPhone:\n",
    "    def does(self):\n",
    "        return 'ring'"
   ]
  },
  {
   "cell_type": "code",
   "execution_count": 112,
   "id": "d846d740",
   "metadata": {},
   "outputs": [],
   "source": [
    "class Robot:\n",
    "    \n",
    "    def does(self):\n",
    "        a1=Laser().does()\n",
    "        b1=Claw().does()\n",
    "        c1=SmartPhone().does()\n",
    "        return \"Laser \"+a1+\" Claw \"+b1+\" SmartPhone \"+c1\n",
    "\n",
    "    \n",
    "    "
   ]
  },
  {
   "cell_type": "code",
   "execution_count": 113,
   "id": "64af887b",
   "metadata": {},
   "outputs": [
    {
     "data": {
      "text/plain": [
       "'Laser disintegrate Claw crush SmartPhone ring'"
      ]
     },
     "execution_count": 113,
     "metadata": {},
     "output_type": "execute_result"
    }
   ],
   "source": [
    "d1=Robot()\n",
    "d1.does()\n"
   ]
  }
 ],
 "metadata": {
  "kernelspec": {
   "display_name": "Python 3 (ipykernel)",
   "language": "python",
   "name": "python3"
  },
  "language_info": {
   "codemirror_mode": {
    "name": "ipython",
    "version": 3
   },
   "file_extension": ".py",
   "mimetype": "text/x-python",
   "name": "python",
   "nbconvert_exporter": "python",
   "pygments_lexer": "ipython3",
   "version": "3.10.4"
  }
 },
 "nbformat": 4,
 "nbformat_minor": 5
}
